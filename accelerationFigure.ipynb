{
 "cells": [
  {
   "cell_type": "markdown",
   "metadata": {},
   "source": [
    "### Change dir of workspace"
   ]
  },
  {
   "cell_type": "markdown",
   "metadata": {},
   "source": [
    "Test"
   ]
  },
  {
   "cell_type": "code",
   "execution_count": null,
   "metadata": {
    "collapsed": true
   },
   "outputs": [],
   "source": [
    "import os\n",
    "dataFilterPath = \"C:\\Document\\College\\Master\\毕业设计\\\\Data\\\\Freestyle\\\\acc_filter\"\n",
    "datauipath = unicode(dataFilterPath,\"utf8\")\n",
    "os.chdir(datauipath)"
   ]
  },
  {
   "cell_type": "markdown",
   "metadata": {},
   "source": [
    "### Create a file after filtering"
   ]
  },
  {
   "cell_type": "code",
   "execution_count": null,
   "metadata": {
    "collapsed": true
   },
   "outputs": [],
   "source": [
    "def dataFilterFile(fileName,*args):\n",
    "    file = open(fileName+\".txt\",\"w\")\n",
    "    for i in range(args[1].shape[0]):\n",
    "        file.write(str(i)+\",\"+str(args[0][i])+\",\"+str(args[1][i])+\",\"+str(args[2][i])+\",\"+str(args[3][i])+'\\n')"
   ]
  },
  {
   "cell_type": "markdown",
   "metadata": {},
   "source": [
    "### Plot after filtering\n",
    "\n",
    "to check if ouput file is correct"
   ]
  },
  {
   "cell_type": "code",
   "execution_count": null,
   "metadata": {
    "collapsed": true
   },
   "outputs": [],
   "source": [
    "def plotFiltering(fileName):\n",
    "    dataX = []\n",
    "    dataY = []\n",
    "    dataZ = []\n",
    "    timeDomain = []\n",
    "    inpath = \"C:\\Document\\College\\Master\\毕业设计\\\\Data\\\\Freestyle\\\\acc_filter\\\\\"+fileName+\".txt\"\n",
    "    uipath = unicode(inpath,\"utf8\")\n",
    "    handle = open(uipath)\n",
    "    lines = handle.readlines()\n",
    "    for line in lines:\n",
    "        dataList = line.split(\",\")\n",
    "        for i in range(5):\n",
    "            dataList[i] = float(dataList[i])\n",
    "        timeDomain.append(dataList[1])\n",
    "        dataX.append(dataList[2])\n",
    "        dataY.append(dataList[3])\n",
    "        dataZ.append(dataList[4])\n",
    "    \n",
    "    plt.subplot(2,2,1)\n",
    "    plt.plot(timeDomain,dataX)\n",
    "    plt.title(\"original X\")\n",
    "\n",
    "    plt.subplot(2,2,2)\n",
    "    plt.plot(timeDomain,dataY)\n",
    "    plt.title(\"original Y\")\n",
    "\n",
    "    plt.subplot(2,2,3)\n",
    "    plt.plot(timeDomain,dataZ)\n",
    "    plt.title(\"original Z\")\n",
    "    \n",
    "    plt.show()"
   ]
  },
  {
   "cell_type": "markdown",
   "metadata": {},
   "source": [
    "you'll be able to interact with your plots."
   ]
  },
  {
   "cell_type": "code",
   "execution_count": null,
   "metadata": {
    "collapsed": true
   },
   "outputs": [],
   "source": [
    "%matplotlib notebook"
   ]
  },
  {
   "cell_type": "markdown",
   "metadata": {},
   "source": [
    "import the library we need"
   ]
  },
  {
   "cell_type": "code",
   "execution_count": null,
   "metadata": {
    "collapsed": true
   },
   "outputs": [],
   "source": [
    "import numpy as np\n",
    "import matplotlib.pyplot as plt\n",
    "import math\n",
    "from scipy import signal\n",
    "from scipy import stats"
   ]
  },
  {
   "cell_type": "markdown",
   "metadata": {},
   "source": [
    "Create dataList of acceleration X,Y,Z,Sum and put them to List"
   ]
  },
  {
   "cell_type": "code",
   "execution_count": null,
   "metadata": {
    "collapsed": true
   },
   "outputs": [],
   "source": [
    "#create subplot for accelerator X,Y,Z and the sum of acceleration.\n",
    "dataX = []\n",
    "dataY = []\n",
    "dataZ = []\n",
    "dataSum = []\n",
    "timeDomain = []\n",
    "\n",
    "#Open file and readlines\n",
    "inpath = 'C:\\Document\\College\\Master\\毕业设计\\\\Data\\\\Freestyle\\\\acc\\\\10Freestyle25mAcc.txt'\n",
    "uipath = unicode(inpath,\"utf8\")\n",
    "handle = open(uipath)\n",
    "lines = handle.readlines()\n",
    "\n",
    "for line in lines:\n",
    "    dataList = line.split(\",\")\n",
    "    for i in range(5):\n",
    "        dataList[i] = dataList[i].strip()\n",
    "        dataList[i] = float(dataList[i])\n",
    "    timeDomain.append(dataList[1])\n",
    "    dataX.append(dataList[2])\n",
    "    dataY.append(dataList[3])\n",
    "    dataZ.append(dataList[4])\n",
    "    dataSum.append(math.sqrt(dataList[2]*dataList[2]+dataList[3]*dataList[3]+dataList[4]*dataList[4]))"
   ]
  },
  {
   "cell_type": "markdown",
   "metadata": {},
   "source": [
    "plot the data point of X,Y,Z,Sum to figure , and show the figure"
   ]
  },
  {
   "cell_type": "code",
   "execution_count": null,
   "metadata": {
    "collapsed": true
   },
   "outputs": [],
   "source": [
    "plt.subplot(2,2,1)\n",
    "plt.plot(timeDomain,dataX)\n",
    "plt.title(\"original X\")\n",
    "\n",
    "plt.subplot(2,2,2)\n",
    "plt.plot(timeDomain,dataY)\n",
    "plt.title(\"original Y\")\n",
    "\n",
    "plt.subplot(2,2,3)\n",
    "plt.plot(timeDomain,dataZ)\n",
    "plt.title(\"original Z\")\n",
    "\n",
    "plt.subplot(2,2,4)\n",
    "plt.plot(timeDomain,dataSum)\n",
    "plt.title(\"original Sum\")\n",
    "\n",
    "plt.show()"
   ]
  },
  {
   "cell_type": "markdown",
   "metadata": {},
   "source": [
    "###  3-order Butterworth Low-pass filter\n",
    "use 3-order Butterworth lowpass filter(三阶巴特沃兹低通滤波器） to dataX\n",
    "\n",
    "Forward-Backward Filtering（零相移数字滤波器）"
   ]
  },
  {
   "cell_type": "code",
   "execution_count": null,
   "metadata": {
    "collapsed": true
   },
   "outputs": [],
   "source": [
    "b,a = signal.butter(3,0.08,'low')\n",
    "butterDataX = signal.filtfilt(b,a,dataX)\n",
    "butterDataY = signal.filtfilt(b,a,dataY)\n",
    "butterDataZ = signal.filtfilt(b,a,dataZ)\n",
    "\n",
    "plt.subplot(321)\n",
    "plt.plot(timeDomain,dataX)\n",
    "plt.title(\"original X\")\n",
    "plt.subplot(3,2,2)\n",
    "plt.plot(timeDomain,butterDataX)\n",
    "plt.title(\"low pass X\")\n",
    "\n",
    "plt.subplot(323)\n",
    "plt.plot(timeDomain,dataY)\n",
    "plt.title(\"original Y\")\n",
    "plt.subplot(3,2,4)\n",
    "plt.plot(timeDomain,butterDataY)\n",
    "plt.title(\"low pass Y\")\n",
    "\n",
    "plt.subplot(325)\n",
    "plt.plot(timeDomain,dataZ)\n",
    "plt.title(\"original Z\")\n",
    "plt.subplot(3,2,6)\n",
    "plt.plot(timeDomain,butterDataZ)\n",
    "plt.title(\"low pass Z\")\n",
    "\n",
    "plt.show()"
   ]
  },
  {
   "cell_type": "markdown",
   "metadata": {},
   "source": [
    "### output data with 3-order Butterworth Low-pass filtering to file.txt"
   ]
  },
  {
   "cell_type": "code",
   "execution_count": null,
   "metadata": {
    "collapsed": true
   },
   "outputs": [],
   "source": [
    "dataFilterFile(\"butterworth\",timeDomain,butterDataX,butterDataY,butterDataZ)"
   ]
  },
  {
   "cell_type": "code",
   "execution_count": null,
   "metadata": {
    "collapsed": true
   },
   "outputs": [],
   "source": [
    "plotFiltering(\"butterworth\")"
   ]
  },
  {
   "cell_type": "markdown",
   "metadata": {},
   "source": [
    "### Simple Moving Average(SMA)\n",
    "use Simple Moving Average to smooth the curve\n",
    "The numpy implementation of convolve includes the starting transient, so you have to remove the first N-1 points:"
   ]
  },
  {
   "cell_type": "code",
   "execution_count": null,
   "metadata": {
    "collapsed": true
   },
   "outputs": [],
   "source": [
    "smaDataX = np.convolve(dataX, np.ones((3,))/3, mode='valid')\n",
    "smaDataY = np.convolve(dataY, np.ones((3,))/3, mode='valid')\n",
    "smaDataZ = np.convolve(dataZ, np.ones((3,))/3, mode='valid')\n",
    "\n",
    "plt.subplot(321)\n",
    "plt.plot(timeDomain,dataX)\n",
    "plt.title(\"original X\")\n",
    "plt.subplot(322)\n",
    "plt.plot(timeDomain[2:],smaDataX)\n",
    "plt.title(\"SMA(3-order) X\")\n",
    "\n",
    "plt.subplot(323)\n",
    "plt.plot(timeDomain,dataY)\n",
    "plt.title(\"original Y\")\n",
    "plt.subplot(324)\n",
    "plt.plot(timeDomain[2:],smaDataY)\n",
    "plt.title(\"SMA(3-order) Y\" )\n",
    "\n",
    "plt.subplot(325)\n",
    "plt.plot(timeDomain,dataZ)\n",
    "plt.title(\"original Z\")\n",
    "plt.subplot(326)\n",
    "plt.plot(timeDomain[2:],smaDataZ)\n",
    "plt.title(\"SMA(3-order) Z\")\n",
    "\n",
    "plt.show()"
   ]
  },
  {
   "cell_type": "markdown",
   "metadata": {},
   "source": [
    "### output data with Simple Moving Average filtering to file.txt"
   ]
  },
  {
   "cell_type": "code",
   "execution_count": null,
   "metadata": {
    "collapsed": true
   },
   "outputs": [],
   "source": [
    "dataFilterFile(\"SMA\",timeDomain[2:],smaDataX,smaDataY,smaDataZ)"
   ]
  },
  {
   "cell_type": "code",
   "execution_count": null,
   "metadata": {
    "collapsed": true
   },
   "outputs": [],
   "source": [
    "plotFiltering(\"SMA\")"
   ]
  },
  {
   "cell_type": "markdown",
   "metadata": {},
   "source": [
    "### Median filter\n",
    "kernel_size choose 3(default）"
   ]
  },
  {
   "cell_type": "code",
   "execution_count": null,
   "metadata": {
    "collapsed": true
   },
   "outputs": [],
   "source": [
    "dataXArray = np.array(dataX)\n",
    "dataYArray = np.array(dataY)\n",
    "dataZArray = np.array(dataZ)\n",
    "#output:array\n",
    "medDataX = signal.medfilt(dataXArray)\n",
    "medDataY = signal.medfilt(dataYArray)\n",
    "medDataZ = signal.medfilt(dataZArray)\n",
    "\n",
    "plt.subplot(321)\n",
    "plt.plot(timeDomain,dataX)\n",
    "plt.title(\"original X\")\n",
    "plt.subplot(322)\n",
    "plt.plot(timeDomain,medDataX)\n",
    "plt.title(\"Median filter X\")\n",
    "\n",
    "plt.subplot(323)\n",
    "plt.plot(timeDomain,dataY)\n",
    "plt.title(\"original Y\")\n",
    "plt.subplot(324)\n",
    "plt.plot(timeDomain,medDataY)\n",
    "plt.title(\"Median filter Y\")\n",
    "\n",
    "plt.subplot(325)\n",
    "plt.plot(timeDomain,dataZ)\n",
    "plt.title(\"original Z\")\n",
    "plt.subplot(326)\n",
    "plt.plot(timeDomain,medDataZ)\n",
    "plt.title(\"Median filter Z\")\n",
    "\n",
    "\n",
    "plt.show()\n"
   ]
  },
  {
   "cell_type": "markdown",
   "metadata": {},
   "source": [
    "### output data with Median filtering to file.txt"
   ]
  },
  {
   "cell_type": "code",
   "execution_count": null,
   "metadata": {
    "collapsed": true
   },
   "outputs": [],
   "source": [
    "dataFilterFile(\"Median\",timeDomain,medDataX,medDataY,medDataZ)"
   ]
  },
  {
   "cell_type": "code",
   "execution_count": null,
   "metadata": {
    "collapsed": true
   },
   "outputs": [],
   "source": [
    "plotFiltering(\"Median\")"
   ]
  },
  {
   "cell_type": "markdown",
   "metadata": {
    "collapsed": true
   },
   "source": [
    "### Chebyshev type I filter \n"
   ]
  },
  {
   "cell_type": "code",
   "execution_count": null,
   "metadata": {
    "collapsed": true
   },
   "outputs": [],
   "source": [
    "b,a = signal.cheby1(3,5,0.08,'low')\n",
    "cheby1DataX = signal.filtfilt(b,a,dataX)\n",
    "cheby1DataY = signal.filtfilt(b,a,dataY)\n",
    "cheby1DataZ = signal.filtfilt(b,a,dataZ)\n",
    "\n",
    "plt.subplot(321)\n",
    "plt.plot(timeDomain,dataX)\n",
    "plt.title(\"original X\")\n",
    "plt.subplot(3,2,2)\n",
    "plt.plot(timeDomain,cheby1DataX)\n",
    "plt.title(\"low pass X\")\n",
    "\n",
    "plt.subplot(323)\n",
    "plt.plot(timeDomain,dataY)\n",
    "plt.title(\"original Y\")\n",
    "plt.subplot(3,2,4)\n",
    "plt.plot(timeDomain,cheby1DataY)\n",
    "plt.title(\"low pass Y\")\n",
    "\n",
    "plt.subplot(325)\n",
    "plt.plot(timeDomain,dataZ)\n",
    "plt.title(\"original Z\")\n",
    "plt.subplot(3,2,6)\n",
    "plt.plot(timeDomain,cheby1DataZ)\n",
    "plt.title(\"low pass Z\")\n",
    "\n",
    "plt.show()"
   ]
  },
  {
   "cell_type": "markdown",
   "metadata": {},
   "source": [
    "### output data with cheby I filtering to file.txt"
   ]
  },
  {
   "cell_type": "code",
   "execution_count": null,
   "metadata": {
    "collapsed": true
   },
   "outputs": [],
   "source": [
    "dataFilterFile(\"cheby1\",timeDomain,cheby1DataX,cheby1DataY,cheby1DataZ)"
   ]
  },
  {
   "cell_type": "code",
   "execution_count": null,
   "metadata": {
    "collapsed": true
   },
   "outputs": [],
   "source": [
    "plotFiltering(\"cheby1\")"
   ]
  },
  {
   "cell_type": "markdown",
   "metadata": {},
   "source": [
    "### Chebyshev type II filter "
   ]
  },
  {
   "cell_type": "code",
   "execution_count": null,
   "metadata": {
    "collapsed": true
   },
   "outputs": [],
   "source": [
    "b,a = signal.cheby2(3,40,0.08,'low')\n",
    "cheby2DataX = signal.filtfilt(b,a,dataX)\n",
    "cheby2DataY = signal.filtfilt(b,a,dataY)\n",
    "cheby2DataZ = signal.filtfilt(b,a,dataZ)\n",
    "\n",
    "plt.subplot(321)\n",
    "plt.plot(timeDomain,dataX)\n",
    "plt.title(\"original X\")\n",
    "plt.subplot(3,2,2)\n",
    "plt.plot(timeDomain,cheby2DataX)\n",
    "plt.title(\"low pass X\")\n",
    "\n",
    "plt.subplot(323)\n",
    "plt.plot(timeDomain,dataY)\n",
    "plt.title(\"original Y\")\n",
    "plt.subplot(3,2,4)\n",
    "plt.plot(timeDomain,cheby2DataY)\n",
    "plt.title(\"low pass Y\")\n",
    "\n",
    "plt.subplot(325)\n",
    "plt.plot(timeDomain,dataZ)\n",
    "plt.title(\"original Z\")\n",
    "plt.subplot(3,2,6)\n",
    "plt.plot(timeDomain,cheby2DataZ)\n",
    "plt.title(\"low pass Z\")\n",
    "\n",
    "plt.show()"
   ]
  },
  {
   "cell_type": "markdown",
   "metadata": {},
   "source": [
    "### output data with cheby I filtering to file.txt"
   ]
  },
  {
   "cell_type": "code",
   "execution_count": null,
   "metadata": {
    "collapsed": true
   },
   "outputs": [],
   "source": [
    "dataFilterFile(\"10Freestyle25mAcc\",timeDomain,cheby2DataX,cheby2DataY,cheby2DataZ)"
   ]
  },
  {
   "cell_type": "code",
   "execution_count": null,
   "metadata": {
    "collapsed": true
   },
   "outputs": [],
   "source": [
    "plotFiltering(\"10Freestyle25mAcc\")"
   ]
  },
  {
   "cell_type": "markdown",
   "metadata": {},
   "source": [
    "### 小波去噪:示例代码"
   ]
  },
  {
   "cell_type": "code",
   "execution_count": null,
   "metadata": {
    "collapsed": true
   },
   "outputs": [],
   "source": [
    "# -*- coding: utf-8 -*-  \n",
    "\n",
    "import pywt  \n",
    "  \n",
    "data = np.linspace(1, 4, 7)  \n",
    "  \n",
    "# pywt.threshold方法讲解：  \n",
    "#               pywt.threshold（data，value，mode ='soft'，substitute = 0 ）  \n",
    "#               data：数据集，value：阈值，mode：比较模式默认soft，substitute：替代值，默认0，float类型  \n",
    "  \n",
    "#data:   [ 1.   1.5  2.   2.5  3.   3.5  4. ]  \n",
    "#output：[ 6.   6.   0.   0.5  1.   1.5  2. ]  \n",
    "#soft 因为data中1小于2，所以使用6替换，因为data中第二个1.5小于2也被替换，2不小于2所以使用当前值减去2，，2.5大于2，所以2.5-2=0.5.....  \n",
    "print \"---------------------soft:绝对值-------------------------\"  \n",
    "print pywt.threshold(data, 2, 'soft',6)  \n",
    "  \n",
    "print \"---------------------hard:绝对值-------------------------\"  \n",
    "  \n",
    "#data:   [ 1.   1.5  2.   2.5  3.   3.5  4. ]  \n",
    "#hard data中绝对值小于阈值2的替换为6，大于2的不替换  \n",
    "print pywt.threshold(data, 2, 'hard',6)  \n",
    "  \n",
    "print \"---------------------greater-------------------------\"  \n",
    "  \n",
    "#data:   [ 1.   1.5  2.   2.5  3.   3.5  4. ]  \n",
    "#data中数值小于阈值的替换为6，大于等于的不替换  \n",
    "print pywt.threshold(data, 2, 'greater',6)  \n",
    "print \"---------------------less-------------------------\"  \n",
    "print data  \n",
    "#data:   [ 1.   1.5  2.   2.5  3.   3.5  4. ]  \n",
    "#data中数值大于阈值的，替换为6  \n",
    "print pywt.threshold(data, 2, 'less',6)  "
   ]
  },
  {
   "cell_type": "markdown",
   "metadata": {},
   "source": [
    "### Calculate the time-domain feature of list/array\n",
    "including mean, variation ,skew, kurtosis ,min ,max ,median ,interquartile"
   ]
  },
  {
   "cell_type": "code",
   "execution_count": null,
   "metadata": {
    "collapsed": true
   },
   "outputs": [],
   "source": [
    "def timeDomainFeature(args):\n",
    "    mean =stats.tmean(args)\n",
    "    var = stats.tvar(args)\n",
    "    skew = stats.skew(args)\n",
    "    kurtosis = stats.kurtosis(args)\n",
    "    mindata = stats.tmin(args)\n",
    "    maxdata = stats.tmax(args)\n",
    "    interquartile = stats.iqr(args)\n",
    "    info = stats.describe(args)\n",
    "    return mean,var,skew,kurtosis,mindata,maxdata,interquartile"
   ]
  },
  {
   "cell_type": "markdown",
   "metadata": {},
   "source": [
    "Calculate personr correlation coefficients between two arrays"
   ]
  },
  {
   "cell_type": "code",
   "execution_count": null,
   "metadata": {
    "collapsed": true
   },
   "outputs": [],
   "source": [
    "def pearsonrCov(*args):\n",
    "    tuple = stats.pearsonr(args[0],args[1])\n",
    "    rValue = tuple[0]\n",
    "    pValue = tuple[1]\n",
    "    return rValue"
   ]
  },
  {
   "cell_type": "markdown",
   "metadata": {},
   "source": [
    "### Calculation feature of data in given time windows and output data file"
   ]
  },
  {
   "cell_type": "code",
   "execution_count": null,
   "metadata": {
    "collapsed": true
   },
   "outputs": [],
   "source": [
    "# coding: utf-8\n",
    "#读取文件路径\n",
    "inpath = \"C:\\\\Document\\\\College\\\\Master\\\\毕业设计\\\\Data\\\\Freestyle\\\\acc_filter\\\\10Freestyle25mAcc.txt\"\n",
    "#you can change the directory of file\n",
    "uipath = unicode(inpath,\"utf8\")\n",
    "handle = open(uipath)\n",
    "lines = handle.readlines()"
   ]
  },
  {
   "cell_type": "markdown",
   "metadata": {},
   "source": [
    "#### Use loop to load data and use slide windows to get feature"
   ]
  },
  {
   "cell_type": "code",
   "execution_count": null,
   "metadata": {
    "collapsed": true
   },
   "outputs": [],
   "source": [
    "#Feature List : 21 features\n",
    "meanFeatureListX = []\n",
    "meanFeatureListY = []\n",
    "meanFeatureListZ = []\n",
    "varFeatureListX = []\n",
    "varFeatureListY = []\n",
    "varFeatureListZ = []\n",
    "skewFeatureListX = []\n",
    "skewFeatureListY = []\n",
    "skewFeatureListZ = []\n",
    "kurtosisFeatureListX = []\n",
    "kurtosisFeatureListY = []\n",
    "kurtosisFeatureListZ = []\n",
    "minFeatureListX = []\n",
    "minFeatureListY = []\n",
    "minFeatureListZ = []\n",
    "maxFeatureListX = []\n",
    "maxFeatureListY = []\n",
    "maxFeatureListZ = []\n",
    "quartileFeatureListX = []\n",
    "quartileFeatureListY = []\n",
    "quartileFeatureListZ = []\n",
    "CovListXY = []\n",
    "CovListXZ = []\n",
    "CovListYZ = []\n",
    "\n",
    "#List to record data in specific window\n",
    "dataListX = []\n",
    "dataListY = []\n",
    "dataListZ = []\n",
    "\n",
    "#设置滑动窗口长度\n",
    "windows = 3000.0\n",
    "#设置重叠窗口长度\n",
    "overlapWindows = 1500.0\n",
    "\n",
    "#设置开始时间\n",
    "startTime = 0.0\n",
    "\n",
    "for line in lines:\n",
    "    dataList = line.split(\",\")\n",
    "    if (float(dataList[1]) - startTime < windows):\n",
    "        #将加速度数据加入到当前窗口的列表中\n",
    "        dataListX.append(float(dataList[2]))\n",
    "        dataListY.append(float(dataList[3]))\n",
    "        dataListZ.append(float(dataList[4]))\n",
    "    else:\n",
    "        #处理当前三轴加速度列表并获得特征，并将相应特征加入到特征列表中\n",
    "        #print mean,var,skew,kurtosis,mindata,maxdata,interquartile,timeDomainFeature()\n",
    "        meanX,varX,skewX,kurtosisX,mindataX,maxdataX,interquartileX = timeDomainFeature(dataListX)\n",
    "        meanY,varY,skewY,kurtosisY,mindataY,maxdataY,interquartileY = timeDomainFeature(dataListY)\n",
    "        meanZ,varZ,skewZ,kurtosisZ,mindataZ,maxdataZ,interquartileZ = timeDomainFeature(dataListZ)\n",
    "        CovXY = pearsonrCov(dataListX,dataListY)\n",
    "        CovXZ = pearsonrCov(dataListX,dataListZ)\n",
    "        CovYZ = pearsonrCov(dataListY,dataListZ)\n",
    "        meanFeatureListX.append(meanX)\n",
    "        meanFeatureListY.append(meanY)\n",
    "        meanFeatureListZ.append(meanZ)\n",
    "        varFeatureListX.append(varX)\n",
    "        varFeatureListY.append(varY)\n",
    "        varFeatureListZ.append(varZ)\n",
    "        skewFeatureListX.append(skewX)\n",
    "        skewFeatureListY.append(skewY)\n",
    "        skewFeatureListZ.append(skewZ)\n",
    "        kurtosisFeatureListX.append(kurtosisX)\n",
    "        kurtosisFeatureListY.append(kurtosisY)\n",
    "        kurtosisFeatureListZ.append(kurtosisZ)\n",
    "        minFeatureListX.append(mindataX)\n",
    "        minFeatureListY.append(mindataY)\n",
    "        minFeatureListZ.append(mindataZ)\n",
    "        maxFeatureListX.append(maxdataX)\n",
    "        maxFeatureListY.append(maxdataY)\n",
    "        maxFeatureListZ.append(maxdataZ)\n",
    "        quartileFeatureListX.append(interquartileX)\n",
    "        quartileFeatureListY.append(interquartileY)\n",
    "        quartileFeatureListZ.append(interquartileZ)\n",
    "        CovListXY.append(CovXY)\n",
    "        CovListXZ.append(CovXZ)\n",
    "        CovListYZ.append(CovYZ)\n",
    "        #We have 50% overlapping windows, so we add 1.5s(1500ms)to the original starTime\n",
    "        startTime = startTime + overlapWindows\n",
    "        #清空当前窗口三轴加速度列表\n",
    "        dataListX = []\n",
    "        dataListY = []\n",
    "        dataListZ = []\n",
    "        dataListX.append(float(dataList[2]))\n",
    "        dataListY.append(float(dataList[3]))\n",
    "        dataListZ.append(float(dataList[4]))\n",
    "        continue"
   ]
  },
  {
   "cell_type": "markdown",
   "metadata": {},
   "source": [
    "#### Test for whether it's successful to extract feature"
   ]
  },
  {
   "cell_type": "code",
   "execution_count": null,
   "metadata": {
    "collapsed": true
   },
   "outputs": [],
   "source": [
    "print meanFeatureListX\n",
    "print meanFeatureListY\n",
    "print meanFeatureListZ\n",
    "print varFeatureListX\n",
    "print varFeatureListY\n",
    "print varFeatureListZ\n",
    "print skewFeatureListX\n",
    "print skewFeatureListY\n",
    "print skewFeatureListZ\n",
    "print kurtosisFeatureListX\n",
    "print kurtosisFeatureListY\n",
    "print kurtosisFeatureListZ\n",
    "print minFeatureListX\n",
    "print minFeatureListY\n",
    "print minFeatureListZ\n",
    "print maxFeatureListX\n",
    "print maxFeatureListY\n",
    "print maxFeatureListZ\n",
    "print quartileFeatureListX\n",
    "print quartileFeatureListY\n",
    "print quartileFeatureListZ\n",
    "print CovListXY\n",
    "print CovListXZ\n",
    "print CovListYZ"
   ]
  },
  {
   "cell_type": "markdown",
   "metadata": {},
   "source": [
    "### Generate training data\n",
    "1.generate csv file,with fieldnames in the first row\n",
    "\n",
    "\n",
    "2.**Remember to add label data to data **(1 for breaststroke, 2 for freestyle, 3 for backstroke, 4 for butterfly)"
   ]
  },
  {
   "cell_type": "code",
   "execution_count": null,
   "metadata": {
    "collapsed": true
   },
   "outputs": [],
   "source": [
    "# coding: utf-8\n",
    "# Change the dicrectionary of folder and create data file csv in my folder\n",
    "import os\n",
    "dataFilterPath = \"C:\\\\Document\\\\College\\\\Master\\\\毕业设计\\\\Data\"\n",
    "datauipath = unicode(dataFilterPath,\"utf8\")\n",
    "os.chdir(datauipath)\n",
    "\n",
    "import csv\n",
    "with open('traingDataTest.csv','ab') as csvfile:\n",
    "    dataWriter = csv.writer(csvfile)\n",
    "    dataWriter.writerow(['meanFeatureListX','meanFeatureListY','meanFeatureListZ',\n",
    "                        'varFeatureListX','varFeatureListY','varFeatureListZ',\n",
    "                        'skewFeatureListX','skewFeatureListY','skewFeatureListZ',\n",
    "                        'kurtosisFeatureListX','kurtosisFeatureListY','kurtosisFeatureListZ',\n",
    "                        'minFeatureListX','minFeatureListY','minFeatureListZ',\n",
    "                        'maxFeatureListX','maxFeatureListY','maxFeatureListZ',\n",
    "                        'quartileFeatureListX','quartileFeatureListY','quartileFeatureListZ',\n",
    "                        'CovListXY','CovListXZ','CovListYZ','SwimStyle'])\n",
    "    for i in range(len(meanFeatureListX)):\n",
    "        dataWriter.writerow([meanFeatureListX[i],meanFeatureListY[i],meanFeatureListZ[i],\n",
    "                        varFeatureListX[i],varFeatureListY[i],varFeatureListZ[i],\n",
    "                        skewFeatureListX[i],skewFeatureListY[i],skewFeatureListZ[i],\n",
    "                        kurtosisFeatureListX[i],kurtosisFeatureListY[i],kurtosisFeatureListZ[i],\n",
    "                        minFeatureListX[i],minFeatureListY[i],minFeatureListZ[i],\n",
    "                        maxFeatureListX[i],maxFeatureListY[i],maxFeatureListZ[i],\n",
    "                        quartileFeatureListX[i],quartileFeatureListY[i],quartileFeatureListZ[i],\n",
    "                        CovListXY[i],CovListXZ[i],CovListYZ[i],'2'])\n",
    "\n",
    "csvfile.close()"
   ]
  },
  {
   "cell_type": "markdown",
   "metadata": {},
   "source": [
    "### Read data from csv"
   ]
  },
  {
   "cell_type": "code",
   "execution_count": null,
   "metadata": {
    "collapsed": true
   },
   "outputs": [],
   "source": [
    "import numpy as np\n",
    "import pandas as pd\n",
    "import os\n",
    "from IPython.display import display # Allows the use of display() for DataFrames\n",
    "from sklearn.model_selection import train_test_split\n",
    "\n",
    "#Change folder derectionary\n",
    "dataFilterPath = \"C:\\\\Document\\\\College\\\\Master\\\\毕业设计\\\\Data\"\n",
    "datauipath = unicode(dataFilterPath,\"utf8\")\n",
    "os.chdir(datauipath)\n",
    "\n",
    "#load the data\n",
    "in_file = 'data.csv'\n",
    "full_data = pd.read_csv(in_file)\n",
    "\n",
    "# Print the first few entries of the RMS Titanic data\n",
    "display(full_data.head())\n",
    "\n",
    "style = full_data['SwimStyle']\n",
    "features = full_data.drop('SwimStyle', axis = 1)\n",
    "\n",
    "# split data in train subsets and test subsets\n",
    "features_train, features_test, style_train, style_test = train_test_split(features, style, test_size = 0.2, random_state=42)"
   ]
  },
  {
   "cell_type": "markdown",
   "metadata": {},
   "source": [
    "#### Losgistic Regression Classification"
   ]
  },
  {
   "cell_type": "code",
   "execution_count": null,
   "metadata": {
    "collapsed": true
   },
   "outputs": [],
   "source": [
    "from sklearn import linear_model\n",
    "\n",
    "# use logistic Regression classification\n",
    "logreg = linear_model.LogisticRegression()\n",
    "logreg.fit(features_train, style_train)\n",
    "print logreg.score(features_test,style_test)"
   ]
  },
  {
   "cell_type": "markdown",
   "metadata": {},
   "source": [
    "#### SVM classification"
   ]
  },
  {
   "cell_type": "code",
   "execution_count": null,
   "metadata": {
    "collapsed": true
   },
   "outputs": [],
   "source": [
    "from sklearn.svm import SVC\n",
    "clf = SVC()\n",
    "clf.fit(features_train, style_train)\n",
    "print clf.score(features_test, style_test)"
   ]
  },
  {
   "cell_type": "markdown",
   "metadata": {},
   "source": [
    "#### K-means classification\n",
    "with low score"
   ]
  },
  {
   "cell_type": "code",
   "execution_count": null,
   "metadata": {
    "collapsed": true
   },
   "outputs": [],
   "source": [
    "from sklearn.cluster import KMeans\n",
    "kmeans = KMeans(n_clusters = 4, random_state = 0).fit(features_train)\n",
    "kmeans.predict(features.ix[200])"
   ]
  },
  {
   "cell_type": "markdown",
   "metadata": {},
   "source": [
    "#### Multi-layer perception classification (nerual network)"
   ]
  },
  {
   "cell_type": "code",
   "execution_count": null,
   "metadata": {
    "collapsed": true
   },
   "outputs": [],
   "source": [
    "from sklearn.neural_network import MLPClassifier\n",
    "mlp = MLPClassifier(solver='lbfgs', alpha=1e-5,\n",
    "                    hidden_layer_sizes=(5, 2), random_state=1)\n",
    "mlp.fit(features_train,style_train)\n",
    "print mlp.score(features_test, style_test)"
   ]
  },
  {
   "cell_type": "markdown",
   "metadata": {},
   "source": [
    "#### Decision Tree Classification"
   ]
  },
  {
   "cell_type": "code",
   "execution_count": null,
   "metadata": {
    "collapsed": true
   },
   "outputs": [],
   "source": [
    "from sklearn import tree\n",
    "clf = tree.DecisionTreeClassifier()\n",
    "clf.fit(features_train,style_train)\n",
    "print clf.score(features_test,style_test)"
   ]
  },
  {
   "cell_type": "markdown",
   "metadata": {},
   "source": [
    "#### KNN Classification"
   ]
  },
  {
   "cell_type": "code",
   "execution_count": null,
   "metadata": {
    "collapsed": true
   },
   "outputs": [],
   "source": [
    "from sklearn.neighbors import KNeighborsClassifier\n",
    "neigh = KNeighborsClassifier(n_neighbors = 100)\n",
    "neigh.fit(features_train,style_train)\n",
    "print neigh.score(features_test,style_test)"
   ]
  },
  {
   "cell_type": "markdown",
   "metadata": {},
   "source": [
    "#### Gaussian Naive Bayes"
   ]
  },
  {
   "cell_type": "code",
   "execution_count": null,
   "metadata": {
    "collapsed": true
   },
   "outputs": [],
   "source": [
    "from sklearn.naive_bayes import GaussianNB\n",
    "clf = GaussianNB()\n",
    "clf.fit(features_train,style_train)\n",
    "print clf.score(features_test,style_test)"
   ]
  },
  {
   "cell_type": "markdown",
   "metadata": {},
   "source": [
    "#### Random Forest Classifier"
   ]
  },
  {
   "cell_type": "code",
   "execution_count": null,
   "metadata": {
    "collapsed": true
   },
   "outputs": [],
   "source": [
    "from sklearn.ensemble import RandomForestClassifier\n",
    "clf = RandomForestClassifier(n_estimators=10)\n",
    "clf = clf.fit(features_train,style_train)\n",
    "print clf.score(features_test,style_test)"
   ]
  }
 ],
 "metadata": {
  "kernelspec": {
   "display_name": "Python 2",
   "language": "python",
   "name": "python2"
  },
  "language_info": {
   "codemirror_mode": {
    "name": "ipython",
    "version": 2
   },
   "file_extension": ".py",
   "mimetype": "text/x-python",
   "name": "python",
   "nbconvert_exporter": "python",
   "pygments_lexer": "ipython2",
   "version": "2.7.13"
  }
 },
 "nbformat": 4,
 "nbformat_minor": 2
}
